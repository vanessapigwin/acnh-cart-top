{
 "cells": [
  {
   "cell_type": "code",
   "execution_count": null,
   "metadata": {},
   "outputs": [],
   "source": [
    "import pandas as pd\n",
    "from pathlib import Path\n",
    "\n",
    "pd.__version__"
   ]
  },
  {
   "cell_type": "markdown",
   "metadata": {},
   "source": [
    "## Cleanup\n",
    "- remove unused sheets\n",
    "- remove irrelevant columns\n",
    "- rename columns"
   ]
  },
  {
   "cell_type": "code",
   "execution_count": null,
   "metadata": {},
   "outputs": [],
   "source": [
    "def collect_sheets(filepath, sheets_key, old_filename, new_fname):\n",
    "    raw_excelfile = pd.read_excel(\n",
    "        Path(filepath, old_filename), sheet_name=list(sheets_key.keys())\n",
    "    )\n",
    "    target_file = Path(filepath, new_fname)\n",
    "\n",
    "    with pd.ExcelWriter(target_file, engine=\"openpyxl\", mode=\"w\") as writer:\n",
    "        for sheet, new_sheet_name in sheets_key.items():\n",
    "            raw_excelfile.get(sheet).to_excel(\n",
    "                writer, sheet_name=new_sheet_name, index=False\n",
    "            )\n",
    "\n",
    "\n",
    "def process_columns(filepath, sheets_key, columns_key, old_filename):\n",
    "    raw_excelfile = pd.ExcelFile(Path(filepath, old_filename))\n",
    "\n",
    "    combined_df = pd.DataFrame()\n",
    "    for sheet in sheets_key.values():\n",
    "        df = pd.read_excel(raw_excelfile, sheet_name=sheet)\n",
    "        df = df[columns_key.keys()]\n",
    "        df = df.rename(columns=columns_key)\n",
    "        df = process_rows(df)\n",
    "        df['category'] = sheet\n",
    "        combined_df = pd.concat([combined_df, df])\n",
    "\n",
    "    combined_df.to_csv(f\"./csv/combined.csv\", index=False)\n",
    "\n",
    "\n",
    "def process_rows(df):\n",
    "    df['product_name'] = df['product_name'].str.title()\n",
    "    df['color'] = df['color'].str.lower()\n",
    "    df['style'] = df['style'].str.lower()\n",
    "    df = df[df[\"price\"] != \"NFS\"]\n",
    "\n",
    "    return df\n",
    "\n",
    "\n",
    "SHEETS_TO_USE = {\n",
    "    \"Tops\": \"tops\",\n",
    "    \"Bottoms\": \"bottoms\",\n",
    "    \"Dress-Up\": \"dressup\",\n",
    "    \"Headwear\": \"headwear\",\n",
    "    \"Accessories\": \"accessories\",\n",
    "    \"Socks\": \"socks\",\n",
    "    \"Shoes\": \"shoes\",\n",
    "    \"Bags\": \"bags\",\n",
    "}\n",
    "COLUMNS_TO_USE = {\n",
    "    \"Name\": \"product_name\",\n",
    "    \"Buy\": \"price\",\n",
    "    \"Color 1\": \"color\",\n",
    "    \"Style 1\": \"style\",\n",
    "    \"Filename\": \"filename\",\n",
    "    \"Description\": \"description\",  # generated\n",
    "}\n",
    "\n",
    "excel_filename = \"Data Spreadsheet for Animal Crossing New Horizons.xlsx\"\n",
    "excel_path = Path(Path().cwd(), \"scrape\")\n",
    "\n",
    "# collect_sheets(excel_path, SHEETS_TO_USE, excel_filename, \"collected_sheets.xlsx\")\n",
    "\n",
    "gpt_excel_filename = \"collected_with_desc.xlsx\"\n",
    "process_columns(excel_path, SHEETS_TO_USE, COLUMNS_TO_USE, gpt_excel_filename)"
   ]
  }
 ],
 "metadata": {
  "kernelspec": {
   "display_name": ".venv",
   "language": "python",
   "name": "python3"
  },
  "language_info": {
   "codemirror_mode": {
    "name": "ipython",
    "version": 3
   },
   "file_extension": ".py",
   "mimetype": "text/x-python",
   "name": "python",
   "nbconvert_exporter": "python",
   "pygments_lexer": "ipython3",
   "version": "3.10.12"
  }
 },
 "nbformat": 4,
 "nbformat_minor": 2
}
